{
 "cells": [
  {
   "cell_type": "markdown",
   "metadata": {},
   "source": [
    "-----\n",
    "## PID\n",
    "Basic PID unit.\n",
    "The PID output follows the formulas:\n",
    "$$e(t) = x(t) - y(t) \\\\\n",
    "u(t) = K_p e(t) + K_i \\sum_{\\tau=0}^t e(\\tau)\\Delta t + K_d (e(t) - e(t-\\Delta t))$$\n",
    "where $x(t)$ is the setpoint, $y(t)$ is the feedback value, $e(t)$ is the error, $u(t)$ is the PID output, $\\Delta t$ is the simulation time step width and $K_p$, $K_i$ and $K_d$ are the PID gain of the proportional, integral and differential respectively."
   ]
  },
  {
   "cell_type": "code",
   "execution_count": 1,
   "metadata": {
    "collapsed": true
   },
   "outputs": [],
   "source": [
    "class PID:\n",
    "    \"\"\"Basic PID unit for the simulation.\"\"\"\n",
    "    \n",
    "    def __init__(self, dt, Kp=0.2, Ki=0.0, Kd=0.0):\n",
    "        \"\"\"Generates PID controller unit.\n",
    "        \n",
    "        Parameters\n",
    "        ----------\n",
    "        dt : float\n",
    "            The simulation time step width [sec]\n",
    "            \n",
    "        Kp : float\n",
    "            Proportional gain\n",
    "            \n",
    "        Ki : float\n",
    "            Integral gain\n",
    "            \n",
    "        Kd : float\n",
    "            Differential gain\n",
    "            \n",
    "        \"\"\"\n",
    "        \n",
    "        self.dt = dt\n",
    "        self.Kp = Kp\n",
    "        self.Ki = Ki\n",
    "        self.Kd = Kd\n",
    "        \n",
    "        # Integral of error\n",
    "        self.Ei = 0.0\n",
    "        # Last error\n",
    "        self.Ep = 0.0\n",
    "    \n",
    "    def update(self, setpoint, feedback):\n",
    "        \"\"\"Returns PID output.\n",
    "        \n",
    "        Parameters\n",
    "        ----------\n",
    "        setpoint : float\n",
    "            Setpoint\n",
    "            \n",
    "        feedback : float\n",
    "            Feedback value\n",
    "        \"\"\"\n",
    "        \n",
    "        error = setpoint - feedback\n",
    "        \n",
    "        # integralation\n",
    "        self.Ei += error * self.dt\n",
    "        # differentiation\n",
    "        Ed = error - self.Ep\n",
    "        \n",
    "        # output\n",
    "        u = self.Kp * error + self.Ki * self.Ei + self.Kd * Ed\n",
    "        \n",
    "        # update past error\n",
    "        self.Ep = error\n",
    "        \n",
    "        return u"
   ]
  },
  {
   "cell_type": "markdown",
   "metadata": {},
   "source": [
    "### PID unit test\n",
    "PID control of the vertical velocity of the Hexacopter."
   ]
  },
  {
   "cell_type": "code",
   "execution_count": 1,
   "metadata": {
    "collapsed": false
   },
   "outputs": [
    {
     "ename": "ModuleNotFoundError",
     "evalue": "No module named 'HxCopter'",
     "output_type": "error",
     "traceback": [
      "\u001b[0;31m---------------------------------------------------------------------------\u001b[0m",
      "\u001b[0;31mModuleNotFoundError\u001b[0m                       Traceback (most recent call last)",
      "\u001b[0;32m<ipython-input-1-f9ec22f85618>\u001b[0m in \u001b[0;36m<module>\u001b[0;34m()\u001b[0m\n\u001b[1;32m      1\u001b[0m \u001b[0;32mimport\u001b[0m \u001b[0mmatplotlib\u001b[0m\u001b[0;34m.\u001b[0m\u001b[0mpyplot\u001b[0m \u001b[0;32mas\u001b[0m \u001b[0mplt\u001b[0m\u001b[0;34m\u001b[0m\u001b[0m\n\u001b[0;32m----> 2\u001b[0;31m \u001b[0;32mimport\u001b[0m \u001b[0mHxCopter\u001b[0m\u001b[0;34m.\u001b[0m\u001b[0mhexacopter\u001b[0m\u001b[0;34m\u001b[0m\u001b[0m\n\u001b[0m\u001b[1;32m      3\u001b[0m \u001b[0;31m#import Hexacopter\u001b[0m\u001b[0;34m\u001b[0m\u001b[0;34m\u001b[0m\u001b[0m\n\u001b[1;32m      4\u001b[0m \u001b[0;34m\u001b[0m\u001b[0m\n\u001b[1;32m      5\u001b[0m \u001b[0;31m# Display plots inline and change default figure size\u001b[0m\u001b[0;34m\u001b[0m\u001b[0;34m\u001b[0m\u001b[0m\n",
      "\u001b[0;31mModuleNotFoundError\u001b[0m: No module named 'HxCopter'"
     ]
    }
   ],
   "source": [
    "import matplotlib.pyplot as plt\n",
    "import HxCopter.hexacopter\n",
    "#import Hexacopter\n",
    "\n",
    "# Display plots inline and change default figure size\n",
    "%matplotlib inline\n",
    "plt.rcParams['figure.figsize'] = (15.0, 4.0)\n",
    "\n",
    "# simulation time step width\n",
    "dt = 0.01\n",
    "# simulation time [sec]\n",
    "runtime = 15\n",
    "# number of the simulation time step\n",
    "num_step = int(runtime / dt)\n",
    "print(num_step)\n",
    "\n",
    "# initial rotor speed [rpm]\n",
    "omega0 = 386.4\n",
    "# generate the hexacopter model\n",
    "hx = Hexacopter(dt, omega0)\n",
    "#generate the PID controller\n",
    "#pid = PID(dt, Kp=5.0, Ki=3.5, Kd=1.2)\n",
    "pid = PID(dt, Kp=0.15, Ki=0.15, Kd=0.1)\n",
    "# mass [kg]\n",
    "m = 2.1\n",
    "# propeller thrust [rad^2/sec^2]\n",
    "kT = 2.3 * 10 ** (-5)\n",
    "\n",
    "ew = - m / 6 / kT\n",
    "print('Ew = ',ew)\n",
    "\n",
    "# log\n",
    "data_w = np.zeros(num_step)\n",
    "data_o = np.zeros(num_step)\n",
    "cmds = np.zeros(num_step)\n",
    "\n",
    "\n",
    "# ========\n",
    "# COMMAND\n",
    "# ========\n",
    "cmd = 0.0\n",
    "\n",
    "for t in range(num_step):\n",
    "    w = hx.get_velocity()[0]\n",
    "    # register the log\n",
    "    data_w[t] = w\n",
    "    # PID calculation\n",
    "    if t == int(3 / dt):\n",
    "        cmd = 0.2\n",
    "    if t == int(6 /dt):\n",
    "        cmd = 0.\n",
    "    if t == int(9 / dt):\n",
    "        cmd = 0.2\n",
    "    if t == int(12 /dt):\n",
    "        cmd = 0.\n",
    "    cmds[t] = cmd\n",
    "    u = pid.update(cmd, w) * ew\n",
    "    data_o[t] = w\n",
    "    us = np.array([u, u, u, u, u, u])\n",
    "    \n",
    "    # command imput\n",
    "    hx.set_rotor_speed(us)\n",
    "    # model update\n",
    "    hx.update()\n",
    "\n",
    "# draw graph of vertical speed log\n",
    "t = np.arange(0, runtime, dt)\n",
    "#cmds = np.ones(num_step) * cmd\n",
    "plt.plot(t, cmds)\n",
    "plt.plot(t, data_w)\n",
    "plt.ylim(-0.2, 0.6)\n",
    "plt.xlim(0, 15)"
   ]
  },
  {
   "cell_type": "code",
   "execution_count": null,
   "metadata": {
    "collapsed": true
   },
   "outputs": [],
   "source": []
  }
 ],
 "metadata": {
  "kernelspec": {
   "display_name": "Python 3",
   "language": "python",
   "name": "python3"
  },
  "language_info": {
   "codemirror_mode": {
    "name": "ipython",
    "version": 3
   },
   "file_extension": ".py",
   "mimetype": "text/x-python",
   "name": "python",
   "nbconvert_exporter": "python",
   "pygments_lexer": "ipython3",
   "version": "3.6.0"
  }
 },
 "nbformat": 4,
 "nbformat_minor": 2
}
