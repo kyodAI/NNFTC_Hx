{
 "cells": [
  {
   "cell_type": "markdown",
   "metadata": {},
   "source": [
    "-----\n",
    "## PID\n",
    "Basic PID unit.\n",
    "The PID output follows the formulas:\n",
    "$$e(t) = x(t) - y(t) \\\\\n",
    "u(t) = K_p e(t) + K_i \\sum_{\\tau=0}^t e(\\tau)\\Delta t + K_d (e(t) - e(t-\\Delta t))$$\n",
    "where $x(t)$ is the setpoint, $y(t)$ is the feedback value, $e(t)$ is the error, $u(t)$ is the PID output, $\\Delta t$ is the simulation time step width and $K_p$, $K_i$ and $K_d$ are the PID gain of the proportional, integral and differential respectively."
   ]
  },
  {
   "cell_type": "code",
   "execution_count": null,
   "metadata": {
    "collapsed": true
   },
   "outputs": [],
   "source": []
  }
 ],
 "metadata": {
  "kernelspec": {
   "display_name": "Python 3",
   "language": "python",
   "name": "python3"
  },
  "language_info": {
   "codemirror_mode": {
    "name": "ipython",
    "version": 3
   },
   "file_extension": ".py",
   "mimetype": "text/x-python",
   "name": "python",
   "nbconvert_exporter": "python",
   "pygments_lexer": "ipython3",
   "version": "3.6.0"
  }
 },
 "nbformat": 4,
 "nbformat_minor": 2
}
